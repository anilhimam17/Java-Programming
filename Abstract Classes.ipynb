{
 "cells": [
  {
   "cell_type": "markdown",
   "id": "011c1f2c-e29d-49ec-8e21-ca95171bd15d",
   "metadata": {},
   "source": [
    "<div style=\"background-color: yellow;\">\n",
    "    <h1 style=\"font-family: 'monaco'; text-align: center; padding: 20px\">Hello, World in Java</h1>\n",
    "</div>"
   ]
  },
  {
   "cell_type": "code",
   "execution_count": 1,
   "id": "f836d7c4-eea1-425f-82ca-267e02639d77",
   "metadata": {},
   "outputs": [
    {
     "name": "stdout",
     "output_type": "stream",
     "text": [
      "Hello, World\n"
     ]
    }
   ],
   "source": [
    "// Hi from the world of Java\n",
    "System.out.println(\"Hello, World\");"
   ]
  },
  {
   "cell_type": "markdown",
   "id": "cba9e638-5de1-4548-a1b3-d1fab076a3f5",
   "metadata": {},
   "source": [
    "## Working with Abstract Classes in Java"
   ]
  },
  {
   "cell_type": "markdown",
   "id": "e627d4cb-7086-49af-98d3-8a74f0131c55",
   "metadata": {},
   "source": [
    "- Abstract classes contain a `list of methods` which are `not defined` in the class.\n",
    "- They are defined so that they can be **`implemented by overriding`** in any of the child classes.\n",
    "- They are **`defined only with inheritance in mind`** so that all the methods implemented are carried forward to the child class and must be implemented in the child class."
   ]
  },
  {
   "cell_type": "code",
   "execution_count": 6,
   "id": "f2c01fa4-c06e-4659-a0df-7fc92e09bbbd",
   "metadata": {},
   "outputs": [],
   "source": [
    "abstract class Animal {\n",
    "    private int legs;\n",
    "    private String ears;\n",
    "    private String sound;\n",
    "\n",
    "    public abstract void move();\n",
    "    public abstract void callSign();\n",
    "\n",
    "    // Implementing the Getter and Setter Methods\n",
    "    public int getLegs() {\n",
    "        return this.legs;\n",
    "    }\n",
    "\n",
    "    public String getEars() {\n",
    "        return this.ears;\n",
    "    }\n",
    "\n",
    "    public String getSound() {\n",
    "        return this.sound;\n",
    "    }\n",
    "\n",
    "    public void setLegs(int legs) {\n",
    "        this.legs = legs;\n",
    "    }\n",
    "\n",
    "    public void setEars(String ears) {\n",
    "        this.ears = ears;\n",
    "    }\n",
    "\n",
    "    public void setSound(String sound) {\n",
    "        this.sound = sound;\n",
    "    }\n",
    "\n",
    "    // Constructor of the Class\n",
    "    public Animal(int legs, String ears, String sound) {\n",
    "        this.legs = legs;\n",
    "        this.ears = ears;\n",
    "        this.sound = sound;\n",
    "    }\n",
    "}"
   ]
  },
  {
   "cell_type": "code",
   "execution_count": 5,
   "id": "33ef91bd-7063-48ec-aa8f-972674e22d72",
   "metadata": {},
   "outputs": [],
   "source": [
    "public class Dog extends Animal {\n",
    "\n",
    "    private String name;\n",
    "    private String breed;\n",
    "    private int age;\n",
    "\n",
    "    // Implementing the Abstract Methods to complete the class\n",
    "    @Override\n",
    "    public void move() {\n",
    "        System.out.println(this.getName() + \" is moving\");\n",
    "    }\n",
    "\n",
    "    @Override\n",
    "    public void callSign() {\n",
    "        System.out.println(\"Hey \" + this.getName() + \", come here buddy!!\");\n",
    "    }\n",
    "\n",
    "    // Implementing Member Methods of the Child Class\n",
    "    public void describeDog() {\n",
    "        System.out.println(\"Name: \" + this.getName());\n",
    "        System.out.println(\"Breed: \" + this.getBreed());\n",
    "        System.out.println(\"Age: \" + this.getAge());\n",
    "        System.out.println(\"Ears: \" + this.getEars());\n",
    "        System.out.println(\"Sound: \" + this.getSound());\n",
    "    }\n",
    "\n",
    "    // Getter and Setter Methods\n",
    "    public String getName() {\n",
    "        return this.name;\n",
    "    }\n",
    "\n",
    "    public String getBreed() {\n",
    "        return this.breed;\n",
    "    }\n",
    "\n",
    "    public int getAge() {\n",
    "        return this.age;\n",
    "    }\n",
    "    \n",
    "    public void setName(String name) {\n",
    "        this.name = name;\n",
    "    }\n",
    "\n",
    "    public void setBreed(String breed) {\n",
    "        this.breed = breed;\n",
    "    }\n",
    "\n",
    "    public void setAge(int age) {\n",
    "        this.age = age;\n",
    "    }\n",
    "\n",
    "    // Constructor of the Class\n",
    "    public Dog(String name, String breed, int age, String ears, String sound) {\n",
    "        // Parent class variables initialisation\n",
    "        super(4, ears, sound);\n",
    "\n",
    "        // Child Class variable initialisation\n",
    "        this.name = name;\n",
    "        this.breed = breed;\n",
    "        this.age = age;\n",
    "    }\n",
    "}"
   ]
  },
  {
   "cell_type": "code",
   "execution_count": 7,
   "id": "aa70ffec-11d3-4d4f-a2c8-35cb4906014e",
   "metadata": {},
   "outputs": [
    {
     "name": "stdout",
     "output_type": "stream",
     "text": [
      "Name: Goldie\n",
      "Breed: Grey Hound\n",
      "Age: 10\n",
      "Ears: Pointy\n",
      "Sound: Woof!!\n"
     ]
    }
   ],
   "source": [
    "Dog goldie = new Dog(\"Goldie\", \"Grey Hound\", 10, \"Pointy\", \"Woof!!\");\n",
    "goldie.describeDog();"
   ]
  },
  {
   "cell_type": "code",
   "execution_count": 8,
   "id": "7eb05a0c-4967-45c1-9b1f-92452b5058f5",
   "metadata": {},
   "outputs": [
    {
     "data": {
      "text/plain": [
       "4"
      ]
     },
     "execution_count": 8,
     "metadata": {},
     "output_type": "execute_result"
    }
   ],
   "source": [
    "goldie.getLegs();"
   ]
  },
  {
   "cell_type": "code",
   "execution_count": 9,
   "id": "35a468d8-d528-4470-8bb4-9cbf9460e0d7",
   "metadata": {},
   "outputs": [
    {
     "data": {
      "text/plain": [
       "Woof!!"
      ]
     },
     "execution_count": 9,
     "metadata": {},
     "output_type": "execute_result"
    }
   ],
   "source": [
    "goldie.getSound();"
   ]
  },
  {
   "cell_type": "code",
   "execution_count": 10,
   "id": "a8ffab61-f66e-4905-bb07-dbad6296e71e",
   "metadata": {},
   "outputs": [
    {
     "data": {
      "text/plain": [
       "Pointy"
      ]
     },
     "execution_count": 10,
     "metadata": {},
     "output_type": "execute_result"
    }
   ],
   "source": [
    "goldie.getEars();"
   ]
  },
  {
   "cell_type": "code",
   "execution_count": 11,
   "id": "1ceefe88-8173-433b-87b2-d3675686f097",
   "metadata": {},
   "outputs": [
    {
     "name": "stdout",
     "output_type": "stream",
     "text": [
      "Well Jupyter is Great but alot of typing to do ........ I guess I will stick to it though I might be slow or I dont know I might even switch back and forth between Jupyter and Intellij\n"
     ]
    }
   ],
   "source": [
    "System.out.println(\"Well Jupyter is Great but alot of typing to do ........ I guess I will stick to it though I might be slow or I dont know I might even switch back and forth between Jupyter and Intellij\");"
   ]
  },
  {
   "cell_type": "code",
   "execution_count": null,
   "id": "dcf7f76b-77ca-4bdd-8051-98b530f95f1a",
   "metadata": {},
   "outputs": [],
   "source": []
  }
 ],
 "metadata": {
  "kernelspec": {
   "display_name": "Java",
   "language": "java",
   "name": "java"
  },
  "language_info": {
   "codemirror_mode": "java",
   "file_extension": ".jshell",
   "mimetype": "text/x-java-source",
   "name": "Java",
   "pygments_lexer": "java",
   "version": "17.0.10+11-LTS-240"
  }
 },
 "nbformat": 4,
 "nbformat_minor": 5
}
